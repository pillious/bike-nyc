{
 "cells": [
  {
   "cell_type": "code",
   "execution_count": 30,
   "metadata": {},
   "outputs": [
    {
     "name": "stderr",
     "output_type": "stream",
     "text": [
      "Enabling notebook extension jupyter-leaflet/extension...\n",
      "      - Validating: ok\n"
     ]
    }
   ],
   "source": [
    "# install packages\n",
    "# !pip install ipyleaflet\n",
    "# !pip install pandas\n",
    "! jupyter nbextension enable --py --sys-prefix ipyleaflet"
   ]
  },
  {
   "cell_type": "code",
   "execution_count": 33,
   "metadata": {},
   "outputs": [
    {
     "data": {
      "application/vnd.jupyter.widget-view+json": {
       "model_id": "a3a102cc30414051a207aab5066e36c6",
       "version_major": 2,
       "version_minor": 0
      },
      "text/plain": [
       "Map(center=[40.500563, -74.249689], controls=(ZoomControl(options=['position', 'zoom_in_text', 'zoom_in_title'…"
      ]
     },
     "execution_count": 33,
     "metadata": {},
     "output_type": "execute_result"
    }
   ],
   "source": [
    "import pandas as pd\n",
    "from ipyleaflet import Map, Marker\n",
    "\n",
    "df = pd.read_csv('real_data.csv')\n",
    "# coordinates = df['latitude_longitude']\n",
    "df[\"latitude_longitude\"] = df[\"latitude_longitude\"].str.strip()\n",
    "df[\"latitude_longitude\"]= df[\"latitude_longitude\"].str.split(\" \", n = -1, expand = False)\n",
    "df[\"latitude_longitude\"] = df[\"latitude_longitude\"][::-1]\n",
    "# df[\"latitude_longitude\"]\n",
    "coordinates = df[\"latitude_longitude\"].tolist()\n",
    "center = (40.500563, -74.249689)\n",
    "m = Map(center=(40.500563, -74.249689), zoom=15)\n",
    "marker = Marker(location=center, draggable=False)\n",
    "# marker3 = Marker(location=(40.500563, -75.249689), draggable=False)\n",
    "test_index = 0\n",
    "for coords in coordinates:\n",
    "    if test_index == 200:\n",
    "        break\n",
    "    points = coords[::-1]\n",
    "    # print(points)\n",
    "    for i in range(0, len(points), 2):\n",
    "        lat = points[i]\n",
    "        lon = points[i+1]\n",
    "        leaflet_point = (lat, lon)\n",
    "\n",
    "        # print(leaflet_point)\n",
    "        marker2 = Marker(location=leaflet_point, draggable=False)\n",
    "        m.add_layer(marker2)\n",
    "        # print(marker2)\n",
    "        # print(lat, lon)\n",
    "    test_index += 1\n",
    "\n",
    "\n",
    "# m = Map(center=center, zoom=15)\n",
    "\n",
    "# marker = Marker(location=center, draggable=False)\n",
    "# marker2  = Marker(location=point, draggable=False)\n",
    "# m.add_layer(marker)\n",
    "# m.add_layer(marker2)\n",
    "# m\n",
    "# asdasdasdasd\n",
    "# from ipyleaflet import Map, Marker\n",
    "\n",
    "# center = (52.204793, 360.121558)\n",
    "# point = (52.204793, 330.121558)\n",
    "\n",
    "# m = Map(center=center, zoom=15)\n",
    "\n",
    "# marker = Marker(location=center, draggable=False)\n",
    "# marker2  = Marker(location=point, draggable=False)\n",
    "m.add_layer(marker)\n",
    "# m.add_layer(marker3)\n",
    "# m.save('my_map.html', title='My Map')\n",
    "m"
   ]
  },
  {
   "cell_type": "code",
   "execution_count": null,
   "metadata": {},
   "outputs": [],
   "source": []
  }
 ],
 "metadata": {
  "kernelspec": {
   "display_name": "Python 3.10.4 64-bit",
   "language": "python",
   "name": "python3"
  },
  "language_info": {
   "codemirror_mode": {
    "name": "ipython",
    "version": 3
   },
   "file_extension": ".py",
   "mimetype": "text/x-python",
   "name": "python",
   "nbconvert_exporter": "python",
   "pygments_lexer": "ipython3",
   "version": "3.10.4 (tags/v3.10.4:9d38120, Mar 23 2022, 23:13:41) [MSC v.1929 64 bit (AMD64)]"
  },
  "orig_nbformat": 4,
  "vscode": {
   "interpreter": {
    "hash": "369f2c481f4da34e4445cda3fffd2e751bd1c4d706f27375911949ba6bb62e1c"
   }
  }
 },
 "nbformat": 4,
 "nbformat_minor": 2
}
